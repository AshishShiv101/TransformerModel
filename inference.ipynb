{
 "cells": [
  {
   "cell_type": "code",
   "execution_count": 6,
   "id": "4fd8ef4d",
   "metadata": {},
   "outputs": [
    {
     "name": "stdout",
     "output_type": "stream",
     "text": [
      "Looking in indexes: https://download.pytorch.org/whl/cu118\n",
      "Requirement already satisfied: torch in c:\\users\\ashish shiv\\appdata\\local\\programs\\python\\python313\\lib\\site-packages (2.7.1+cu118)\n",
      "Collecting torchtext\n",
      "  Downloading https://download.pytorch.org/whl/torchtext-0.6.0-py3-none-any.whl (64 kB)\n",
      "Requirement already satisfied: torchvision in c:\\users\\ashish shiv\\appdata\\local\\programs\\python\\python313\\lib\\site-packages (0.22.1+cu118)\n",
      "Requirement already satisfied: torchaudio in c:\\users\\ashish shiv\\appdata\\local\\programs\\python\\python313\\lib\\site-packages (2.7.1+cu118)\n",
      "Requirement already satisfied: filelock in c:\\users\\ashish shiv\\appdata\\local\\programs\\python\\python313\\lib\\site-packages (from torch) (3.13.1)\n",
      "Requirement already satisfied: typing-extensions>=4.10.0 in c:\\users\\ashish shiv\\appdata\\local\\programs\\python\\python313\\lib\\site-packages (from torch) (4.14.1)\n",
      "Requirement already satisfied: sympy>=1.13.3 in c:\\users\\ashish shiv\\appdata\\local\\programs\\python\\python313\\lib\\site-packages (from torch) (1.14.0)\n",
      "Requirement already satisfied: networkx in c:\\users\\ashish shiv\\appdata\\local\\programs\\python\\python313\\lib\\site-packages (from torch) (3.5)\n",
      "Requirement already satisfied: jinja2 in c:\\users\\ashish shiv\\appdata\\local\\programs\\python\\python313\\lib\\site-packages (from torch) (3.1.4)\n",
      "Requirement already satisfied: fsspec in c:\\users\\ashish shiv\\appdata\\local\\programs\\python\\python313\\lib\\site-packages (from torch) (2024.6.1)\n",
      "Requirement already satisfied: setuptools in c:\\users\\ashish shiv\\appdata\\local\\programs\\python\\python313\\lib\\site-packages (from torch) (80.9.0)\n",
      "Requirement already satisfied: tqdm in c:\\users\\ashish shiv\\appdata\\local\\programs\\python\\python313\\lib\\site-packages (from torchtext) (4.67.1)\n",
      "Requirement already satisfied: requests in c:\\users\\ashish shiv\\appdata\\local\\programs\\python\\python313\\lib\\site-packages (from torchtext) (2.32.4)\n",
      "Requirement already satisfied: numpy in c:\\users\\ashish shiv\\appdata\\local\\programs\\python\\python313\\lib\\site-packages (from torchtext) (2.1.2)\n",
      "Requirement already satisfied: six in c:\\users\\ashish shiv\\appdata\\roaming\\python\\python313\\site-packages (from torchtext) (1.17.0)\n",
      "INFO: pip is looking at multiple versions of torchtext to determine which version is compatible with other requirements. This could take a while.\n",
      "  Downloading https://download.pytorch.org/whl/torchtext-0.5.0-py3-none-any.whl (73 kB)\n",
      "Collecting torch\n",
      "  Using cached https://download.pytorch.org/whl/cu118/torch-2.7.1%2Bcu118-cp313-cp313-win_amd64.whl.metadata (27 kB)\n",
      "\n",
      "The conflict is caused by:\n",
      "    torchtext 0.6.0 depends on sentencepiece\n",
      "    torchtext 0.5.0 depends on sentencepiece\n",
      "\n",
      "To fix this you could try to:\n",
      "1. loosen the range of package versions you've specified\n",
      "2. remove package versions to allow pip to attempt to solve the dependency conflict\n",
      "\n",
      "Note: you may need to restart the kernel to use updated packages.\n"
     ]
    },
    {
     "name": "stderr",
     "output_type": "stream",
     "text": [
      "ERROR: Cannot install torchtext==0.5.0 and torchtext==0.6.0 because these package versions have conflicting dependencies.\n",
      "\n",
      "[notice] A new release of pip is available: 25.1.1 -> 25.2\n",
      "[notice] To update, run: python.exe -m pip install --upgrade pip\n",
      "ERROR: ResolutionImpossible: for help visit https://pip.pypa.io/en/latest/topics/dependency-resolution/#dealing-with-dependency-conflicts\n"
     ]
    }
   ],
   "source": [
    "pip install torch torchtext torchvision torchaudio --index-url https://download.pytorch.org/whl/cu118\n"
   ]
  },
  {
   "cell_type": "code",
   "execution_count": null,
   "id": "9113860e",
   "metadata": {},
   "outputs": [],
   "source": [
    "from pathlib import Path\n",
    "import torch\n",
    "import torch.nn as nn\n",
    "from config import get_config, latest_weights_file_path\n",
    "from train import get_model, get_ds, run_validation\n",
    "from translate import translate"
   ]
  },
  {
   "cell_type": "code",
   "execution_count": null,
   "id": "5b3566dd",
   "metadata": {},
   "outputs": [],
   "source": [
    "device = torch.device(\"cuda\" if torch.cuda.is_available() else \"cpu\")\n",
    "print(\"Using device:\", device)\n",
    "config = get_config()\n",
    "train_dataloader, val_dataloader, tokenizer_src, tokenizer_tgt = get_ds(config)\n",
    "model = get_model(config, tokenizer_src.get_vocab_size(), tokenizer_tgt.get_vocab_size()).to(device)\n",
    "\n",
    "# Load the pretrained weights\n",
    "model_filename = latest_weights_file_path(config)\n",
    "state = torch.load(model_filename)\n",
    "model.load_state_dict(state['model_state_dict'])"
   ]
  },
  {
   "cell_type": "code",
   "execution_count": null,
   "id": "67d8b955",
   "metadata": {},
   "outputs": [],
   "source": [
    "run_validation(model, val_dataloader, tokenizer_src, tokenizer_tgt, config['seq_len'], device, lambda msg: print(msg), 0, None, num_examples=10)\n"
   ]
  },
  {
   "cell_type": "code",
   "execution_count": null,
   "id": "4831fffa",
   "metadata": {},
   "outputs": [],
   "source": [
    "t = translate(\"Why do I need to translate this?\")\n"
   ]
  },
  {
   "cell_type": "code",
   "execution_count": null,
   "id": "28b71177",
   "metadata": {},
   "outputs": [],
   "source": [
    "t = translate(34)"
   ]
  }
 ],
 "metadata": {
  "kernelspec": {
   "display_name": "Python 3",
   "language": "python",
   "name": "python3"
  },
  "language_info": {
   "codemirror_mode": {
    "name": "ipython",
    "version": 3
   },
   "file_extension": ".py",
   "mimetype": "text/x-python",
   "name": "python",
   "nbconvert_exporter": "python",
   "pygments_lexer": "ipython3",
   "version": "3.13.5"
  }
 },
 "nbformat": 4,
 "nbformat_minor": 5
}
